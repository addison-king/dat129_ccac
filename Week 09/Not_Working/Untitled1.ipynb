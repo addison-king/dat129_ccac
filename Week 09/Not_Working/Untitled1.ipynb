{
 "cells": [
  {
   "cell_type": "code",
   "execution_count": 16,
   "metadata": {},
   "outputs": [
    {
     "name": "stdout",
     "output_type": "stream",
     "text": [
      "            Title  Avg Rating  # of Ratings\n",
      "0     The Shining        4.22       1055507\n",
      "1              IT        4.24        744104\n",
      "0       The Stand        4.34        579841\n",
      "0  The Gunslinger        3.95        488617\n",
      "\n"
     ]
    }
   ],
   "source": [
    "import pandas as pd\n",
    "data = [['The Shining', 4.22, 1055507], ['IT', 4.24, 744104]]\n",
    "df = pd.DataFrame(data, columns=['Title', 'Avg Rating', '# of Ratings'])\n",
    "data2 = [['The Stand', 4.34, 579841]]\n",
    "data3 = [['The Gunslinger', 3.95, 488617]]\n",
    "df2 = pd.DataFrame(data2, columns=['Title', 'Avg Rating', '# of Ratings'])\n",
    "df3 = pd.DataFrame(data3, columns=['Title', 'Avg Rating', '# of Ratings'])\n",
    "df = df.append(df2)\n",
    "df = df.append(df3)\n",
    "print(df)\n",
    "print()\n"
   ]
  },
  {
   "cell_type": "code",
   "execution_count": 18,
   "metadata": {},
   "outputs": [
    {
     "name": "stdout",
     "output_type": "stream",
     "text": [
      "[('The Shining', 4.22, 1055507)]\n",
      "[('The Shining', 4.22, 1055507), ('IT', 4.24, 744104)]\n"
     ]
    }
   ],
   "source": [
    "data = []\n",
    "data1 = ('The Shining', 4.22, 1055507)\n",
    "data2 = ('IT', 4.24, 744104)\n",
    "data.append(data1)\n",
    "print(data)\n",
    "data.append(data2)\n",
    "print(data)"
   ]
  },
  {
   "cell_type": "code",
   "execution_count": null,
   "metadata": {},
   "outputs": [],
   "source": []
  }
 ],
 "metadata": {
  "kernelspec": {
   "display_name": "Python 3",
   "language": "python",
   "name": "python3"
  },
  "language_info": {
   "codemirror_mode": {
    "name": "ipython",
    "version": 3
   },
   "file_extension": ".py",
   "mimetype": "text/x-python",
   "name": "python",
   "nbconvert_exporter": "python",
   "pygments_lexer": "ipython3",
   "version": "3.8.1"
  }
 },
 "nbformat": 4,
 "nbformat_minor": 4
}
