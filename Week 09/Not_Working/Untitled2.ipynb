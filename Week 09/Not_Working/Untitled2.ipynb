{
 "cells": [
  {
   "cell_type": "code",
   "execution_count": 108,
   "metadata": {},
   "outputs": [],
   "source": [
    "import urllib\n",
    "from bs4 import BeautifulSoup\n",
    "import re\n",
    "\n",
    "def _get_Search_URL():\n",
    "    url = 'https://www.goodreads.com/book/show/11588.The_Shining?from_search=true&from_srp=true&qid=MpPJ3DuY5H&rank=1'\n",
    "    return url\n",
    "\n",
    "def _get_Page_Text(url):\n",
    "    req = urllib.request.Request(url)\n",
    "    response = urllib.request.urlopen(req)\n",
    "    return response.read()\n",
    "\n",
    "def _extract_page_count(page_text):\n",
    "    soup = BeautifulSoup(page_text, 'html.parser')\n",
    "    page_tag = soup.find('span', {'itemprop':'numberOfPages'}).text\n",
    "    i = page_tag.split()\n",
    "    for j in i:\n",
    "        try:\n",
    "            floaters = int(j)\n",
    "        except ValueError:\n",
    "            pass\n",
    "    return floaters\n",
    "    \n",
    "def _extract_review_count(page_text):\n",
    "    soup = BeautifulSoup(page_text, 'html.parser')\n",
    "    review_tag = soup.find('div', 'reviewControls--left greyText').text\n",
    "    review_tag = review_tag.replace(',', '')\n",
    "    review_tag = review_tag.replace('·', '')\n",
    "    reviews = review_tag.split()\n",
    "    \n",
    "    print(reviews[2])    \n",
    "    \n",
    "def _extract_avg_rating(page_text):\n",
    "    soup = BeautifulSoup(page_text, 'html.parser')\n",
    "    rating = soup.find('span', {'itemprop':'ratingValue'}).string\n",
    "    rating = rating.strip()\n",
    "    print(rating)\n"
   ]
  },
  {
   "cell_type": "code",
   "execution_count": 109,
   "metadata": {},
   "outputs": [
    {
     "name": "stdout",
     "output_type": "stream",
     "text": [
      "Number of pages: 659\n",
      "22374\n",
      "4.22\n"
     ]
    }
   ],
   "source": [
    "\n",
    "    url = _get_Search_URL()\n",
    "    pageText = _get_Page_Text(url)\n",
    "    page_count = _extract_page_count(pageText)\n",
    "    print('Number of pages:', page_count)\n",
    "    review_count = _extract_review_count(pageText)\n",
    "    _extract_avg_rating(pageText)"
   ]
  },
  {
   "cell_type": "code",
   "execution_count": null,
   "metadata": {},
   "outputs": [],
   "source": []
  },
  {
   "cell_type": "code",
   "execution_count": null,
   "metadata": {},
   "outputs": [],
   "source": []
  }
 ],
 "metadata": {
  "kernelspec": {
   "display_name": "Python 3",
   "language": "python",
   "name": "python3"
  },
  "language_info": {
   "codemirror_mode": {
    "name": "ipython",
    "version": 3
   },
   "file_extension": ".py",
   "mimetype": "text/x-python",
   "name": "python",
   "nbconvert_exporter": "python",
   "pygments_lexer": "ipython3",
   "version": "3.8.1"
  }
 },
 "nbformat": 4,
 "nbformat_minor": 4
}
