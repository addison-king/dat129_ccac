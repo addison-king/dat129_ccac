{
 "cells": [
  {
   "cell_type": "code",
   "execution_count": null,
   "metadata": {},
   "outputs": [],
   "source": [
    "import urllib\n",
    "from bs4 import BeautifulSoup\n",
    "\n",
    "def getSearchURL(term):\n",
    "# assembles a query against goodreads.com give a search term\n",
    "    url = 'https://heathotsauce.com/pages/search-results-page?q=%s' % (str(term))\n",
    "    return url\n",
    "\n",
    "def getPageText(url):\n",
    "# Given a URL, fetches the raw HTML\n",
    "    \n",
    "    # build the request object from the given URL\n",
    "    req = urllib.request.Request(url)\n",
    "    # access the network via computer's standard gateway to actually retrieve the HTML from goodreads server\n",
    "    with urllib.request.urlopen(req) as response:\n",
    "        return response.read()"
   ]
  },
  {
   "cell_type": "code",
   "execution_count": null,
   "metadata": {},
   "outputs": [],
   "source": [
    "term = 'spicy'\n",
    "url = getSearchURL(term)\n",
    "\n",
    "pageText = getPageText(url)\n",
    "\n",
    "soup = BeautifulSoup(pageText, 'html.parser')\n",
    "bookatags = soup.find_all('span', 'snize-overhidden')\n",
    "\n",
    "for book in bookatags:\n",
    "    title = book.find('span').string\n",
    "    print('\\t', title)\n"
   ]
  },
  {
   "cell_type": "code",
   "execution_count": null,
   "metadata": {},
   "outputs": [],
   "source": []
  }
 ],
 "metadata": {
  "kernelspec": {
   "display_name": "Python 3",
   "language": "python",
   "name": "python3"
  },
  "language_info": {
   "codemirror_mode": {
    "name": "ipython",
    "version": 3
   },
   "file_extension": ".py",
   "mimetype": "text/x-python",
   "name": "python",
   "nbconvert_exporter": "python",
   "pygments_lexer": "ipython3",
   "version": "3.8.1"
  }
 },
 "nbformat": 4,
 "nbformat_minor": 4
}
