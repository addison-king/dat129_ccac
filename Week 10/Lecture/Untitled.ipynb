{
 "cells": [
  {
   "cell_type": "code",
   "execution_count": 4,
   "metadata": {},
   "outputs": [],
   "source": [
    "import numpy as np\n",
    "import pandas as pd"
   ]
  },
  {
   "cell_type": "code",
   "execution_count": 14,
   "metadata": {},
   "outputs": [
    {
     "name": "stdout",
     "output_type": "stream",
     "text": [
      "Pittsburgh-104      13019\n",
      "Pittsburgh-102      11636\n",
      "Pittsburgh-114       7995\n",
      "Ross                 7730\n",
      "Robinson             6752\n",
      "                    ...  \n",
      "Glenfield              14\n",
      "Thornburg               9\n",
      "Pittsburgh (All)        8\n",
      "Osborne                 7\n",
      "Unspecified             1\n",
      "Name: municipal, Length: 160, dtype: int64\n"
     ]
    }
   ],
   "source": [
    "violations_df = pd.read_csv('foodinspectionviolations_alghcnty.csv')\n",
    "\n",
    "#print(violations_df.head())\n",
    "#print(violations_df.columns)\n",
    "#print(violations_df.dtypes)\n",
    "code_violations = violations_df['description_new']\n",
    "#print(code_violations.size)\n",
    "#print(code_violations.value_counts())\n",
    "\n",
    "munis = violations_df['municipal']\n",
    "print(munis.value_counts())"
   ]
  },
  {
   "cell_type": "code",
   "execution_count": 21,
   "metadata": {},
   "outputs": [
    {
     "name": "stdout",
     "output_type": "stream",
     "text": [
      "6752\n"
     ]
    },
    {
     "data": {
      "text/plain": [
       "Fabrication, Design, Installation and Maintenance          672\n",
       "Cleaning and Sanitization                                  629\n",
       "Contamination Prevention - Food, Utensils and Equipment    563\n",
       "Cold Holding Temperatures                                  512\n",
       "Handwashing Facilities                                     397\n",
       "Floors                                                     376\n",
       "Pest Management                                            315\n",
       "Cooling Food                                               283\n",
       "Walls and ceilings                                         263\n",
       "Certified Food Protection Manager                          258\n",
       "Facilities to Maintain Temperature                         244\n",
       "Date Marking of Food                                       230\n",
       "Toxic Items                                                217\n",
       "Plumbing                                                   196\n",
       "Cross-Contamination Prevention                             196\n",
       "Garbage and Refuse                                         162\n",
       "Hot Holding Temperatures                                   153\n",
       "Employee Personal Hygiene                                  135\n",
       "Ventilation                                                133\n",
       "Food Source/Condition                                      128\n",
       "Waste Water Disposal                                       103\n",
       "General Premises                                           102\n",
       "Lighting                                                   101\n",
       "Toilet Room                                                 94\n",
       "Probe-Type Thermometers                                     64\n",
       "Water Supply                                                62\n",
       "Administrative                                              58\n",
       "Consumer Advisory                                           51\n",
       "Demonstration of Knowledge                                  32\n",
       "Reheating Temperatures                                      14\n",
       "Dressing rooms and Locker rooms                              9\n",
       "Name: description_new, dtype: int64"
      ]
     },
     "execution_count": 21,
     "metadata": {},
     "output_type": "execute_result"
    }
   ],
   "source": [
    "#print(violations_df.iloc[0:10])\n",
    "\n",
    "\n",
    "robinson_violations = violations_df.loc[lambda violations_df: violations_df['municipal'].isin(['Robinson'])]\n",
    "\n",
    "print(len(robinson_violations))\n",
    "robinson_violations['description_new'].value_counts()"
   ]
  },
  {
   "cell_type": "code",
   "execution_count": null,
   "metadata": {},
   "outputs": [],
   "source": []
  }
 ],
 "metadata": {
  "kernelspec": {
   "display_name": "Python 3",
   "language": "python",
   "name": "python3"
  },
  "language_info": {
   "codemirror_mode": {
    "name": "ipython",
    "version": 3
   },
   "file_extension": ".py",
   "mimetype": "text/x-python",
   "name": "python",
   "nbconvert_exporter": "python",
   "pygments_lexer": "ipython3",
   "version": "3.8.1"
  }
 },
 "nbformat": 4,
 "nbformat_minor": 4
}
