{
 "cells": [
  {
   "cell_type": "markdown",
   "metadata": {},
   "source": [
    "Goodreads.com scraping\n",
    "\n",
    "QUESTION: What percent of python books have subtitles?\n",
    "\n",
    "    Scraping demo for DAT-129 Week 08 Lecture\n",
    "    Before scaping a pasge, check:\n",
    "        1. Are the URLs encoded in a sensible way that we can use the urllib to grab the HTML page easliy?\n",
    "        2. Are the elements on the page we want to scrape enclosed in HTML tags with distinctive class names or tag names?\n"
   ]
  },
  {
   "cell_type": "code",
   "execution_count": 12,
   "metadata": {},
   "outputs": [],
   "source": [
    "import urllib\n",
    "from bs4 import BeautifulSoup\n",
    "\n",
    "def getSearchURL(term):\n",
    "# assembles a query against goodreads.com give a search term\n",
    "    url = 'https://www.goodreads.com/search?query=%s' % (str(term))\n",
    "    return url\n",
    "\n",
    "def getPageText(url):\n",
    "# Given a URL, fetches the raw HTML\n",
    "    \n",
    "    # build the request object from the given URL\n",
    "    req = urllib.request.Request(url)\n",
    "    # access the network via computer's standard gateway to actually retrieve the HTML from goodreads server\n",
    "    with urllib.request.urlopen(req) as response:\n",
    "        return response.read()"
   ]
  },
  {
   "cell_type": "code",
   "execution_count": 25,
   "metadata": {},
   "outputs": [
    {
     "name": "stdout",
     "output_type": "stream",
     "text": [
      "The Pythons Autobiography by The Pythons\n",
      "Learning Python\n",
      "Think Python\n",
      "Python Cookbook\n",
      "Python for Data Analysis\n",
      "Programming Python\n",
      "Python Tricks\n",
      "Python: Programming: Your Step By Step Guide To Easily Learn Python in 7 Days\n",
      "Python\n",
      "The Greedy Python\n",
      "Python Machine Learning\n",
      "Python for Everybody: Exploring Data in Python 3\n",
      "Python Programming for Beginners: An Introduction to the Python Computer Language and Computer Programming (Python, Python 3, Python Tutorial)\n",
      "Python: 3 Manuscripts in 1 book: - Python Programming For Beginners - Python Programming For Intermediates - Python Programming for Advanced\n",
      "Black Hat Python: Python Programming for Hackers and Pentesters\n",
      "Effective Python: 59 Specific Ways to Write Better Python\n",
      "Monty Python Speaks!\n",
      "Learn Python The Hard Way\n",
      "Python for Kids\n",
      "Python Pocket Reference\n",
      "\n",
      "Total titles:  20\n",
      "30.0% of books have subtitles\n"
     ]
    }
   ],
   "source": [
    "term = 'python'\n",
    "url = getSearchURL(term)\n",
    "pageText = getPageText(url)\n",
    "\n",
    "soup = BeautifulSoup(pageText, 'html.parser')\n",
    "bookatags = soup.find_all('a', 'bookTitle')\n",
    "totaltitles = 0\n",
    "subtitles = 0\n",
    "\n",
    "for book in bookatags:\n",
    "    title = book.find('span').string\n",
    "    print(title)\n",
    "    totaltitles += 1\n",
    "    if \":\" in title:\n",
    "        subtitles += 1\n",
    "\n",
    "print('\\nTotal titles: ', totaltitles)\n",
    "subts = subtitles/totaltitles*100\n",
    "print(subts, '% of books have subtitles', sep='')"
   ]
  },
  {
   "cell_type": "code",
   "execution_count": null,
   "metadata": {},
   "outputs": [],
   "source": []
  }
 ],
 "metadata": {
  "kernelspec": {
   "display_name": "Python 3",
   "language": "python",
   "name": "python3"
  },
  "language_info": {
   "codemirror_mode": {
    "name": "ipython",
    "version": 3
   },
   "file_extension": ".py",
   "mimetype": "text/x-python",
   "name": "python",
   "nbconvert_exporter": "python",
   "pygments_lexer": "ipython3",
   "version": "3.8.1"
  }
 },
 "nbformat": 4,
 "nbformat_minor": 4
}
