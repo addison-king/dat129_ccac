{
 "cells": [
  {
   "cell_type": "code",
   "execution_count": 1,
   "metadata": {},
   "outputs": [],
   "source": [
    "import urllib\n",
    "from bs4 import BeautifulSoup\n",
    "\n",
    "def getSearchURL(number):\n",
    "    url = 'https://www.goodreads.com/shelf/show/mystery?page=2'\n",
    "    return url\n",
    "\n",
    "def getPageText(url):\n",
    "    hdr = { 'User-Agent' : 'Mozilla/5.0 (Windows NT 6.1; Win64; x64)' }\n",
    "    req = urllib.request.Request(url, headers=hdr)\n",
    "    with urllib.request.urlopen(req) as response:\n",
    "        return response.read()"
   ]
  },
  {
   "cell_type": "code",
   "execution_count": 5,
   "metadata": {},
   "outputs": [
    {
     "name": "stdout",
     "output_type": "stream",
     "text": [
      "[<a class=\"bookTitle\" href=\"/book/show/16299.And_Then_There_Were_None\">And Then There Were None (Paperback)</a>, <a class=\"bookTitle\" href=\"/book/show/2429135.The_Girl_with_the_Dragon_Tattoo\">The Girl with the Dragon Tattoo (Millennium, #1)</a>, <a class=\"bookTitle\" href=\"/book/show/19288043-gone-girl\">Gone Girl (Paperback)</a>, <a class=\"bookTitle\" href=\"/book/show/853510.Murder_on_the_Orient_Express\">Murder on the Orient Express (Hercule Poirot, #10)</a>, <a class=\"bookTitle\" href=\"/book/show/22557272-the-girl-on-the-train\">The Girl on the Train (Hardcover)</a>, <a class=\"bookTitle\" href=\"/book/show/968.The_Da_Vinci_Code\">The Da Vinci Code (Robert Langdon, #2)</a>, <a class=\"bookTitle\" href=\"/book/show/16160797-the-cuckoo-s-calling\">The Cuckoo's Calling (Cormoran Strike, #1)</a>, <a class=\"bookTitle\" href=\"/book/show/960.Angels_Demons\">Angels &amp; Demons (Robert Langdon, #1)</a>, <a class=\"bookTitle\" href=\"/book/show/5060378-the-girl-who-played-with-fire\">The Girl Who Played with Fire (Millennium, #2)</a>, <a class=\"bookTitle\" href=\"/book/show/2459785.In_the_Woods\">In the Woods (Dublin Murder Squad, #1)</a>, <a class=\"bookTitle\" href=\"/book/show/16343.The_Mysterious_Affair_at_Styles\">The Mysterious Affair at Styles (Hercule Poirot, #1)</a>, <a class=\"bookTitle\" href=\"/book/show/40605285-the-sweetness-at-the-bottom-of-the-pie\">The Sweetness at the Bottom of the Pie (Flavia de Luce, #1)</a>, <a class=\"bookTitle\" href=\"/book/show/102868.A_Study_in_Scarlet\">A Study in Scarlet (Paperback)</a>, <a class=\"bookTitle\" href=\"/book/show/6892870-the-girl-who-kicked-the-hornet-s-nest\">The Girl Who Kicked the Hornet's Nest (Millennium, #3)</a>, <a class=\"bookTitle\" href=\"/book/show/16328.The_Murder_of_Roger_Ackroyd\">The Murder of Roger Ackroyd (Hercule Poirot, #4)</a>, <a class=\"bookTitle\" href=\"/book/show/8921.The_Hound_of_the_Baskervilles\">The Hound of the Baskervilles (Mass Market Paperback)</a>, <a class=\"bookTitle\" href=\"/book/show/6853.One_for_the_Money\">One for the Money (Stephanie Plum, #1)</a>, <a class=\"bookTitle\" href=\"/book/show/18045891-sharp-objects\">Sharp Objects (Paperback)</a>, <a class=\"bookTitle\" href=\"/book/show/18214414-the-silkworm\">The Silkworm (Cormoran Strike, #2)</a>, <a class=\"bookTitle\" href=\"/book/show/338691.Still_Life\">Still Life (Chief Inspector Armand Gamache, #1)</a>, <a class=\"bookTitle\" href=\"/book/show/5886881-dark-places\">Dark Places (Hardcover)</a>, <a class=\"bookTitle\" href=\"/book/show/3590.The_Adventures_of_Sherlock_Holmes\">The Adventures of Sherlock Holmes (Paperback)</a>, <a class=\"bookTitle\" href=\"/book/show/131359.Death_on_the_Nile\">Death on the Nile (Hercule Poirot, #17)</a>, <a class=\"bookTitle\" href=\"/book/show/16331.Murder_at_the_Vicarage\">Murder at the Vicarage (Miss Marple, #1)</a>, <a class=\"bookTitle\" href=\"/book/show/6411961-the-lost-symbol\">The Lost Symbol (Robert Langdon, #3)</a>, <a class=\"bookTitle\" href=\"/book/show/7061.The_No_1_Ladies_Detective_Agency\">The No. 1 Ladies' Detective Agency (No. 1 Ladies' Detective Agency #1)</a>, <a class=\"bookTitle\" href=\"/book/show/17899948-rebecca\">Rebecca (ebook)</a>, <a class=\"bookTitle\" href=\"/book/show/16322.The_A_B_C_Murders\">The A.B.C. Murders (Hercule Poirot, #13)</a>, <a class=\"bookTitle\" href=\"/book/show/902.The_Westing_Game\">The Westing Game (Paperback)</a>, <a class=\"bookTitle\" href=\"/book/show/1232.The_Shadow_of_the_Wind\">The Shadow of the Wind (The Cemetery of Forgotten Books, #1)</a>, <a class=\"bookTitle\" href=\"/book/show/40611999-career-of-evil\">Career of Evil (Cormoran Strike, #3)</a>, <a class=\"bookTitle\" href=\"/book/show/91661.The_Beekeeper_s_Apprentice\">The Beekeeper's Apprentice (Mary Russell and Sherlock Holmes, #1)</a>, <a class=\"bookTitle\" href=\"/book/show/36337550-the-7-deaths-of-evelyn-hardcastle\">The 7½ Deaths of Evelyn Hardcastle (Hardcover)</a>, <a class=\"bookTitle\" href=\"/book/show/28187230-the-woman-in-cabin-10\">The Woman in Cabin 10 (Hardcover)</a>, <a class=\"bookTitle\" href=\"/book/show/462033.Maisie_Dobbs\">Maisie Dobbs (Maisie Dobbs, #1)</a>, <a class=\"bookTitle\" href=\"/book/show/1618.The_Curious_Incident_of_the_Dog_in_the_Night_Time\">The Curious Incident of the Dog in the Night-Time (Paperback)</a>, <a class=\"bookTitle\" href=\"/book/show/32571395-one-of-us-is-lying\">One of Us Is Lying (One of Us is Lying, #1)</a>, <a class=\"bookTitle\" href=\"/book/show/64863.A_is_for_Alibi\">A is for Alibi (Kinsey Millhone, #1)</a>, <a class=\"bookTitle\" href=\"/book/show/40440.The_Thirteenth_Tale\">The Thirteenth Tale (Hardcover)</a>, <a class=\"bookTitle\" href=\"/book/show/40881649-crocodile-on-the-sandbank\">Crocodile on the Sandbank (Amelia Peabody, #1)</a>, <a class=\"bookTitle\" href=\"/book/show/608474.The_Sign_of_Four\">The Sign of Four (Sherlock Holmes, #2)</a>, <a class=\"bookTitle\" href=\"/book/show/12232938-the-lovely-bones\">The Lovely Bones (Mass Market Paperback)</a>, <a class=\"bookTitle\" href=\"/book/show/6427.Two_for_the_Dough\">Two for the Dough (Stephanie Plum, #2)</a>, <a class=\"bookTitle\" href=\"/book/show/17212231-inferno\">Inferno (Robert Langdon, #4)</a>, <a class=\"bookTitle\" href=\"/book/show/5941114-the-likeness\">The Likeness (Dublin Murder Squad, #2)</a>, <a class=\"bookTitle\" href=\"/book/show/40389527-the-woman-in-the-window\">The Woman in the Window (Kindle Edition)</a>, <a class=\"bookTitle\" href=\"/book/show/188572.The_Complete_Sherlock_Holmes\">The Complete Sherlock Holmes (Paperback)</a>, <a class=\"bookTitle\" href=\"/book/show/16319.The_Body_in_the_Library\">The Body in the Library (Miss Marple, #3)</a>, <a class=\"bookTitle\" href=\"/book/show/16143347-we-were-liars\">We Were Liars (Kindle Edition)</a>, <a class=\"bookTitle\" href=\"/book/show/33516773-big-little-lies\">Big Little Lies (Paperback)</a>]\n",
      "\t <a class=\"bookTitle\" href=\"/book/show/16299.And_Then_There_Were_None\">And Then There Were None (Paperback)</a>\n",
      "\t <a class=\"bookTitle\" href=\"/book/show/2429135.The_Girl_with_the_Dragon_Tattoo\">The Girl with the Dragon Tattoo (Millennium, #1)</a>\n",
      "\t <a class=\"bookTitle\" href=\"/book/show/19288043-gone-girl\">Gone Girl (Paperback)</a>\n",
      "\t <a class=\"bookTitle\" href=\"/book/show/853510.Murder_on_the_Orient_Express\">Murder on the Orient Express (Hercule Poirot, #10)</a>\n",
      "\t <a class=\"bookTitle\" href=\"/book/show/22557272-the-girl-on-the-train\">The Girl on the Train (Hardcover)</a>\n",
      "\t <a class=\"bookTitle\" href=\"/book/show/968.The_Da_Vinci_Code\">The Da Vinci Code (Robert Langdon, #2)</a>\n",
      "\t <a class=\"bookTitle\" href=\"/book/show/16160797-the-cuckoo-s-calling\">The Cuckoo's Calling (Cormoran Strike, #1)</a>\n",
      "\t <a class=\"bookTitle\" href=\"/book/show/960.Angels_Demons\">Angels &amp; Demons (Robert Langdon, #1)</a>\n",
      "\t <a class=\"bookTitle\" href=\"/book/show/5060378-the-girl-who-played-with-fire\">The Girl Who Played with Fire (Millennium, #2)</a>\n",
      "\t <a class=\"bookTitle\" href=\"/book/show/2459785.In_the_Woods\">In the Woods (Dublin Murder Squad, #1)</a>\n",
      "\t <a class=\"bookTitle\" href=\"/book/show/16343.The_Mysterious_Affair_at_Styles\">The Mysterious Affair at Styles (Hercule Poirot, #1)</a>\n",
      "\t <a class=\"bookTitle\" href=\"/book/show/40605285-the-sweetness-at-the-bottom-of-the-pie\">The Sweetness at the Bottom of the Pie (Flavia de Luce, #1)</a>\n",
      "\t <a class=\"bookTitle\" href=\"/book/show/102868.A_Study_in_Scarlet\">A Study in Scarlet (Paperback)</a>\n",
      "\t <a class=\"bookTitle\" href=\"/book/show/6892870-the-girl-who-kicked-the-hornet-s-nest\">The Girl Who Kicked the Hornet's Nest (Millennium, #3)</a>\n",
      "\t <a class=\"bookTitle\" href=\"/book/show/16328.The_Murder_of_Roger_Ackroyd\">The Murder of Roger Ackroyd (Hercule Poirot, #4)</a>\n",
      "\t <a class=\"bookTitle\" href=\"/book/show/8921.The_Hound_of_the_Baskervilles\">The Hound of the Baskervilles (Mass Market Paperback)</a>\n",
      "\t <a class=\"bookTitle\" href=\"/book/show/6853.One_for_the_Money\">One for the Money (Stephanie Plum, #1)</a>\n",
      "\t <a class=\"bookTitle\" href=\"/book/show/18045891-sharp-objects\">Sharp Objects (Paperback)</a>\n",
      "\t <a class=\"bookTitle\" href=\"/book/show/18214414-the-silkworm\">The Silkworm (Cormoran Strike, #2)</a>\n",
      "\t <a class=\"bookTitle\" href=\"/book/show/338691.Still_Life\">Still Life (Chief Inspector Armand Gamache, #1)</a>\n",
      "\t <a class=\"bookTitle\" href=\"/book/show/5886881-dark-places\">Dark Places (Hardcover)</a>\n",
      "\t <a class=\"bookTitle\" href=\"/book/show/3590.The_Adventures_of_Sherlock_Holmes\">The Adventures of Sherlock Holmes (Paperback)</a>\n",
      "\t <a class=\"bookTitle\" href=\"/book/show/131359.Death_on_the_Nile\">Death on the Nile (Hercule Poirot, #17)</a>\n",
      "\t <a class=\"bookTitle\" href=\"/book/show/16331.Murder_at_the_Vicarage\">Murder at the Vicarage (Miss Marple, #1)</a>\n",
      "\t <a class=\"bookTitle\" href=\"/book/show/6411961-the-lost-symbol\">The Lost Symbol (Robert Langdon, #3)</a>\n",
      "\t <a class=\"bookTitle\" href=\"/book/show/7061.The_No_1_Ladies_Detective_Agency\">The No. 1 Ladies' Detective Agency (No. 1 Ladies' Detective Agency #1)</a>\n",
      "\t <a class=\"bookTitle\" href=\"/book/show/17899948-rebecca\">Rebecca (ebook)</a>\n",
      "\t <a class=\"bookTitle\" href=\"/book/show/16322.The_A_B_C_Murders\">The A.B.C. Murders (Hercule Poirot, #13)</a>\n",
      "\t <a class=\"bookTitle\" href=\"/book/show/902.The_Westing_Game\">The Westing Game (Paperback)</a>\n",
      "\t <a class=\"bookTitle\" href=\"/book/show/1232.The_Shadow_of_the_Wind\">The Shadow of the Wind (The Cemetery of Forgotten Books, #1)</a>\n",
      "\t <a class=\"bookTitle\" href=\"/book/show/40611999-career-of-evil\">Career of Evil (Cormoran Strike, #3)</a>\n",
      "\t <a class=\"bookTitle\" href=\"/book/show/91661.The_Beekeeper_s_Apprentice\">The Beekeeper's Apprentice (Mary Russell and Sherlock Holmes, #1)</a>\n",
      "\t <a class=\"bookTitle\" href=\"/book/show/36337550-the-7-deaths-of-evelyn-hardcastle\">The 7½ Deaths of Evelyn Hardcastle (Hardcover)</a>\n",
      "\t <a class=\"bookTitle\" href=\"/book/show/28187230-the-woman-in-cabin-10\">The Woman in Cabin 10 (Hardcover)</a>\n",
      "\t <a class=\"bookTitle\" href=\"/book/show/462033.Maisie_Dobbs\">Maisie Dobbs (Maisie Dobbs, #1)</a>\n",
      "\t <a class=\"bookTitle\" href=\"/book/show/1618.The_Curious_Incident_of_the_Dog_in_the_Night_Time\">The Curious Incident of the Dog in the Night-Time (Paperback)</a>\n",
      "\t <a class=\"bookTitle\" href=\"/book/show/32571395-one-of-us-is-lying\">One of Us Is Lying (One of Us is Lying, #1)</a>\n",
      "\t <a class=\"bookTitle\" href=\"/book/show/64863.A_is_for_Alibi\">A is for Alibi (Kinsey Millhone, #1)</a>\n",
      "\t <a class=\"bookTitle\" href=\"/book/show/40440.The_Thirteenth_Tale\">The Thirteenth Tale (Hardcover)</a>\n",
      "\t <a class=\"bookTitle\" href=\"/book/show/40881649-crocodile-on-the-sandbank\">Crocodile on the Sandbank (Amelia Peabody, #1)</a>\n",
      "\t <a class=\"bookTitle\" href=\"/book/show/608474.The_Sign_of_Four\">The Sign of Four (Sherlock Holmes, #2)</a>\n",
      "\t <a class=\"bookTitle\" href=\"/book/show/12232938-the-lovely-bones\">The Lovely Bones (Mass Market Paperback)</a>\n",
      "\t <a class=\"bookTitle\" href=\"/book/show/6427.Two_for_the_Dough\">Two for the Dough (Stephanie Plum, #2)</a>\n",
      "\t <a class=\"bookTitle\" href=\"/book/show/17212231-inferno\">Inferno (Robert Langdon, #4)</a>\n",
      "\t <a class=\"bookTitle\" href=\"/book/show/5941114-the-likeness\">The Likeness (Dublin Murder Squad, #2)</a>\n",
      "\t <a class=\"bookTitle\" href=\"/book/show/40389527-the-woman-in-the-window\">The Woman in the Window (Kindle Edition)</a>\n",
      "\t <a class=\"bookTitle\" href=\"/book/show/188572.The_Complete_Sherlock_Holmes\">The Complete Sherlock Holmes (Paperback)</a>\n",
      "\t <a class=\"bookTitle\" href=\"/book/show/16319.The_Body_in_the_Library\">The Body in the Library (Miss Marple, #3)</a>\n",
      "\t <a class=\"bookTitle\" href=\"/book/show/16143347-we-were-liars\">We Were Liars (Kindle Edition)</a>\n",
      "\t <a class=\"bookTitle\" href=\"/book/show/33516773-big-little-lies\">Big Little Lies (Paperback)</a>\n"
     ]
    }
   ],
   "source": [
    "i = 1\n",
    "while i < 2:\n",
    "    url = getSearchURL(i)\n",
    "    pageText = getPageText(url)\n",
    "    soup = BeautifulSoup(pageText, 'html.parser')\n",
    "    bookatags = soup.find_all('a', 'bookTitle')\n",
    "    print(bookatags)\n",
    "    i += 1\n",
    "    for book in bookatags:\n",
    "        title = book.find('a')\n",
    "        print('\\t', book)\n",
    "\n",
    "\n"
   ]
  },
  {
   "cell_type": "code",
   "execution_count": null,
   "metadata": {},
   "outputs": [],
   "source": []
  },
  {
   "cell_type": "code",
   "execution_count": null,
   "metadata": {},
   "outputs": [],
   "source": []
  }
 ],
 "metadata": {
  "kernelspec": {
   "display_name": "Python 3",
   "language": "python",
   "name": "python3"
  },
  "language_info": {
   "codemirror_mode": {
    "name": "ipython",
    "version": 3
   },
   "file_extension": ".py",
   "mimetype": "text/x-python",
   "name": "python",
   "nbconvert_exporter": "python",
   "pygments_lexer": "ipython3",
   "version": "3.8.1"
  }
 },
 "nbformat": 4,
 "nbformat_minor": 4
}
