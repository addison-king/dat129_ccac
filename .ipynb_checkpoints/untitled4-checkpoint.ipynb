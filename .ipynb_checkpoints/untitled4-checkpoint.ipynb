{
 "cells": [
  {
   "cell_type": "code",
   "execution_count": 16,
   "metadata": {},
   "outputs": [
    {
     "name": "stdout",
     "output_type": "stream",
     "text": [
      "            Title  Avg Rating  # of Ratings\n",
      "0     The Shining        4.22       1055507\n",
      "1              IT        4.24        744104\n",
      "0       The Stand        4.34        579841\n",
      "0  The Gunslinger        3.95        488617\n",
      "\n"
     ]
    }
   ],
   "source": [
    "import pandas as pd\n",
    "data = [['The Shining', 4.22, 1055507], ['IT', 4.24, 744104]]\n",
    "df = pd.DataFrame(data, columns=['Title', 'Avg Rating', '# of Ratings'])\n",
    "data2 = [['The Stand', 4.34, 579841]]\n",
    "data3 = [['The Gunslinger', 3.95, 488617]]\n",
    "df2 = pd.DataFrame(data2, columns=['Title', 'Avg Rating', '# of Ratings'])\n",
    "df3 = pd.DataFrame(data3, columns=['Title', 'Avg Rating', '# of Ratings'])\n",
    "df = df.append(df2)\n",
    "df = df.append(df3)\n",
    "print(df)\n",
    "print()\n"
   ]
  },
  {
   "cell_type": "code",
   "execution_count": 18,
   "metadata": {},
   "outputs": [
    {
     "name": "stdout",
     "output_type": "stream",
     "text": [
      "[('The Shining', 4.22, 1055507)]\n",
      "[('The Shining', 4.22, 1055507), ('IT', 4.24, 744104)]\n"
     ]
    }
   ],
   "source": [
    "data = []\n",
    "data1 = ('The Shining', 4.22, 1055507)\n",
    "data2 = ('IT', 4.24, 744104)\n",
    "data.append(data1)\n",
    "data.append(data2)\n",
    "print(data, '\\n')"
   ]
  },
  {
   "cell_type": "code",
   "execution_count": 20,
   "metadata": {},
   "outputs": [
    {
     "ename": "PermissionError",
     "evalue": "[WinError 32] The process cannot access the file because it is being used by another process: 'SK_GR.db'",
     "output_type": "error",
     "traceback": [
      "\u001b[1;31m---------------------------------------------------------------------------\u001b[0m",
      "\u001b[1;31mPermissionError\u001b[0m                           Traceback (most recent call last)",
      "\u001b[1;32m<ipython-input-20-eccf9af4857c>\u001b[0m in \u001b[0;36m<module>\u001b[1;34m\u001b[0m\n\u001b[0;32m      4\u001b[0m \u001b[1;33m\u001b[0m\u001b[0m\n\u001b[0;32m      5\u001b[0m \u001b[1;32mif\u001b[0m \u001b[0mos\u001b[0m\u001b[1;33m.\u001b[0m\u001b[0mpath\u001b[0m\u001b[1;33m.\u001b[0m\u001b[0mexists\u001b[0m\u001b[1;33m(\u001b[0m\u001b[1;34m\"SK_GR.db\"\u001b[0m\u001b[1;33m)\u001b[0m\u001b[1;33m:\u001b[0m\u001b[1;33m\u001b[0m\u001b[1;33m\u001b[0m\u001b[0m\n\u001b[1;32m----> 6\u001b[1;33m   \u001b[0mos\u001b[0m\u001b[1;33m.\u001b[0m\u001b[0mremove\u001b[0m\u001b[1;33m(\u001b[0m\u001b[1;34m\"SK_GR.db\"\u001b[0m\u001b[1;33m)\u001b[0m\u001b[1;33m\u001b[0m\u001b[1;33m\u001b[0m\u001b[0m\n\u001b[0m\u001b[0;32m      7\u001b[0m \u001b[1;31m# connect to the database. if it doesn't exist, it does now\u001b[0m\u001b[1;33m\u001b[0m\u001b[1;33m\u001b[0m\u001b[1;33m\u001b[0m\u001b[0m\n\u001b[0;32m      8\u001b[0m \u001b[1;32mtry\u001b[0m\u001b[1;33m:\u001b[0m\u001b[1;33m\u001b[0m\u001b[1;33m\u001b[0m\u001b[0m\n",
      "\u001b[1;31mPermissionError\u001b[0m: [WinError 32] The process cannot access the file because it is being used by another process: 'SK_GR.db'"
     ]
    }
   ],
   "source": [
    "import sqlite3\n",
    "from sqlite3 import Error\n",
    "import os\n",
    "\n",
    "if os.path.exists(\"SK_GR.db\"):\n",
    "  os.remove(\"SK_GR.db\")\n",
    "# connect to the database. if it doesn't exist, it does now\n",
    "try:\n",
    "    connection = sqlite3.connect('SK_GR.db')\n",
    "except Error:\n",
    "    print(Error)\n",
    "cursor_object = connection.cursor()\n",
    "cursor_object.execute('DROP TABLE IF EXISTS Stephen_King')\n",
    "\n",
    "cursor_object.execute('CREATE table IF NOT EXISTS Stephen_King(\\\n",
    "                        Title text PRIMARY KEY, AVG Rating real, Ratings real)')\n",
    "\n",
    "cursor_object.executemany('INSERT INTO Stephen_King VALUES(?, ?, ?)', data)\n",
    "\n",
    "connection.commit()\n",
    "\n",
    "# use the cursor to SELECT *(all columns) from our table\n",
    "cursor_object.execute('SELECT * FROM Stephen_King')\n",
    "\n",
    "# use fetchall on our cursor to extract our SELECT action. Store it to a variable\n",
    "rows = cursor_object.fetchall()\n",
    "\n",
    "# iterate through the \"rows\" to print it.\n",
    "for i in rows:\n",
    "    print(i)\n",
    "    \n",
    "# close the connection to the database (MUST DO THIS!)\n",
    "connection.close()"
   ]
  },
  {
   "cell_type": "code",
   "execution_count": null,
   "metadata": {},
   "outputs": [],
   "source": []
  }
 ],
 "metadata": {
  "kernelspec": {
   "display_name": "Python 3",
   "language": "python",
   "name": "python3"
  },
  "language_info": {
   "codemirror_mode": {
    "name": "ipython",
    "version": 3
   },
   "file_extension": ".py",
   "mimetype": "text/x-python",
   "name": "python",
   "nbconvert_exporter": "python",
   "pygments_lexer": "ipython3",
   "version": "3.8.1"
  }
 },
 "nbformat": 4,
 "nbformat_minor": 4
}
